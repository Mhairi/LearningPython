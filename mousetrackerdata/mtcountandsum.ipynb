{
 "cells": [
  {
   "cell_type": "code",
   "execution_count": 1,
   "metadata": {
    "collapsed": true
   },
   "outputs": [],
   "source": [
    "import pandas as pd\n",
    "import re"
   ]
  },
  {
   "cell_type": "code",
   "execution_count": 2,
   "metadata": {
    "collapsed": true
   },
   "outputs": [],
   "source": [
    "mtdata = pd.read_csv('mousetrackercorrected.csv')"
   ]
  },
  {
   "cell_type": "code",
   "execution_count": 3,
   "metadata": {
    "collapsed": false
   },
   "outputs": [],
   "source": [
    "includelist = pd.read_csv('n=452 subjectID.csv', header = None)\n",
    "includelist = includelist[0].values"
   ]
  },
  {
   "cell_type": "code",
   "execution_count": 4,
   "metadata": {
    "collapsed": false
   },
   "outputs": [
    {
     "data": {
      "text/html": [
       "<div>\n",
       "<table border=\"1\" class=\"dataframe\">\n",
       "  <thead>\n",
       "    <tr style=\"text-align: right;\">\n",
       "      <th></th>\n",
       "      <th>subject</th>\n",
       "      <th>trial</th>\n",
       "      <th>stimfile</th>\n",
       "      <th>condition</th>\n",
       "      <th>code</th>\n",
       "      <th>resp_1</th>\n",
       "      <th>resp_2</th>\n",
       "      <th>response</th>\n",
       "      <th>distractor</th>\n",
       "      <th>error</th>\n",
       "      <th>...</th>\n",
       "      <th>Y_92</th>\n",
       "      <th>Y_93</th>\n",
       "      <th>Y_94</th>\n",
       "      <th>Y_95</th>\n",
       "      <th>Y_96</th>\n",
       "      <th>Y_97</th>\n",
       "      <th>Y_98</th>\n",
       "      <th>Y_99</th>\n",
       "      <th>Y_100</th>\n",
       "      <th>Y_101</th>\n",
       "    </tr>\n",
       "  </thead>\n",
       "  <tbody>\n",
       "  </tbody>\n",
       "</table>\n",
       "<p>0 rows × 226 columns</p>\n",
       "</div>"
      ],
      "text/plain": [
       "Empty DataFrame\n",
       "Columns: [subject, trial, stimfile, condition, code, resp_1, resp_2, response, distractor, error, init time, RT, MD_1, MD_2, AUC_1, AUC_2, MD_time, x-flip, y-flip, z-MD-separate, z-MD-together, z-AUC-separate, z-AUC-together, comments, X_1, X_2, X_3, X_4, X_5, X_6, X_7, X_8, X_9, X_10, X_11, X_12, X_13, X_14, X_15, X_16, X_17, X_18, X_19, X_20, X_21, X_22, X_23, X_24, X_25, X_26, X_27, X_28, X_29, X_30, X_31, X_32, X_33, X_34, X_35, X_36, X_37, X_38, X_39, X_40, X_41, X_42, X_43, X_44, X_45, X_46, X_47, X_48, X_49, X_50, X_51, X_52, X_53, X_54, X_55, X_56, X_57, X_58, X_59, X_60, X_61, X_62, X_63, X_64, X_65, X_66, X_67, X_68, X_69, X_70, X_71, X_72, X_73, X_74, X_75, X_76, ...]\n",
       "Index: []\n",
       "\n",
       "[0 rows x 226 columns]"
      ]
     },
     "execution_count": 4,
     "metadata": {},
     "output_type": "execute_result"
    }
   ],
   "source": [
    "mtdata.loc[mtdata['subject'].isin(includelist)]"
   ]
  },
  {
   "cell_type": "code",
   "execution_count": 5,
   "metadata": {
    "collapsed": false
   },
   "outputs": [],
   "source": [
    "mtdata['RESPONSE1'] = [x for x in mtdata['resp_1'].str.extract(r'..(\\d*)_.(\\d*)', expand = True).values]\n",
    "mtdata['RESPONSE2'] = [x for x in mtdata['resp_2'].str.extract(r'..(\\d*)_.(\\d*)', expand = True).values]"
   ]
  },
  {
   "cell_type": "code",
   "execution_count": 6,
   "metadata": {
    "collapsed": false
   },
   "outputs": [
    {
     "data": {
      "text/html": [
       "<div>\n",
       "<table border=\"1\" class=\"dataframe\">\n",
       "  <thead>\n",
       "    <tr style=\"text-align: right;\">\n",
       "      <th></th>\n",
       "      <th>subject</th>\n",
       "      <th>trial</th>\n",
       "      <th>stimfile</th>\n",
       "      <th>condition</th>\n",
       "      <th>code</th>\n",
       "      <th>resp_1</th>\n",
       "      <th>resp_2</th>\n",
       "      <th>response</th>\n",
       "      <th>distractor</th>\n",
       "      <th>error</th>\n",
       "      <th>...</th>\n",
       "      <th>Y_94</th>\n",
       "      <th>Y_95</th>\n",
       "      <th>Y_96</th>\n",
       "      <th>Y_97</th>\n",
       "      <th>Y_98</th>\n",
       "      <th>Y_99</th>\n",
       "      <th>Y_100</th>\n",
       "      <th>Y_101</th>\n",
       "      <th>RESPONSE1</th>\n",
       "      <th>RESPONSE2</th>\n",
       "    </tr>\n",
       "  </thead>\n",
       "  <tbody>\n",
       "    <tr>\n",
       "      <th>0</th>\n",
       "      <td>455806</td>\n",
       "      <td>1</td>\n",
       "      <td>NaN</td>\n",
       "      <td>777</td>\n",
       "      <td>prac2</td>\n",
       "      <td>~S3_O6.jpg</td>\n",
       "      <td>~S7_O8.jpg</td>\n",
       "      <td>1</td>\n",
       "      <td>1</td>\n",
       "      <td>1</td>\n",
       "      <td>...</td>\n",
       "      <td>1.1400</td>\n",
       "      <td>1.1400</td>\n",
       "      <td>1.1400</td>\n",
       "      <td>1.1400</td>\n",
       "      <td>1.1400</td>\n",
       "      <td>1.1400</td>\n",
       "      <td>1.1400</td>\n",
       "      <td>1.1400</td>\n",
       "      <td>[3, 6]</td>\n",
       "      <td>[7, 8]</td>\n",
       "    </tr>\n",
       "    <tr>\n",
       "      <th>1</th>\n",
       "      <td>455806</td>\n",
       "      <td>3</td>\n",
       "      <td>NaN</td>\n",
       "      <td>777</td>\n",
       "      <td>prac8</td>\n",
       "      <td>~S5_O4.jpg</td>\n",
       "      <td>~S10_O11.jpg</td>\n",
       "      <td>1</td>\n",
       "      <td>1</td>\n",
       "      <td>1</td>\n",
       "      <td>...</td>\n",
       "      <td>1.1500</td>\n",
       "      <td>1.1500</td>\n",
       "      <td>1.1500</td>\n",
       "      <td>1.1500</td>\n",
       "      <td>1.1500</td>\n",
       "      <td>1.1500</td>\n",
       "      <td>1.1500</td>\n",
       "      <td>1.1500</td>\n",
       "      <td>[5, 4]</td>\n",
       "      <td>[10, 11]</td>\n",
       "    </tr>\n",
       "    <tr>\n",
       "      <th>2</th>\n",
       "      <td>455806</td>\n",
       "      <td>5</td>\n",
       "      <td>NaN</td>\n",
       "      <td>777</td>\n",
       "      <td>prac4</td>\n",
       "      <td>~S5_O4.jpg</td>\n",
       "      <td>~S8_O9.jpg</td>\n",
       "      <td>1</td>\n",
       "      <td>2</td>\n",
       "      <td>0</td>\n",
       "      <td>...</td>\n",
       "      <td>1.1250</td>\n",
       "      <td>1.1250</td>\n",
       "      <td>1.1250</td>\n",
       "      <td>1.1250</td>\n",
       "      <td>1.1250</td>\n",
       "      <td>1.1250</td>\n",
       "      <td>1.1250</td>\n",
       "      <td>1.1250</td>\n",
       "      <td>[5, 4]</td>\n",
       "      <td>[8, 9]</td>\n",
       "    </tr>\n",
       "    <tr>\n",
       "      <th>3</th>\n",
       "      <td>455806</td>\n",
       "      <td>7</td>\n",
       "      <td>NaN</td>\n",
       "      <td>777</td>\n",
       "      <td>prac5</td>\n",
       "      <td>~S10_O9.jpg</td>\n",
       "      <td>~S7_O8.jpg</td>\n",
       "      <td>1</td>\n",
       "      <td>1</td>\n",
       "      <td>1</td>\n",
       "      <td>...</td>\n",
       "      <td>1.2125</td>\n",
       "      <td>1.2125</td>\n",
       "      <td>1.2125</td>\n",
       "      <td>1.2125</td>\n",
       "      <td>1.2125</td>\n",
       "      <td>1.2125</td>\n",
       "      <td>1.2125</td>\n",
       "      <td>1.2125</td>\n",
       "      <td>[10, 9]</td>\n",
       "      <td>[7, 8]</td>\n",
       "    </tr>\n",
       "    <tr>\n",
       "      <th>4</th>\n",
       "      <td>455806</td>\n",
       "      <td>9</td>\n",
       "      <td>NaN</td>\n",
       "      <td>777</td>\n",
       "      <td>smgmvsslgl12</td>\n",
       "      <td>~S14_O10.jpg</td>\n",
       "      <td>~S9_O12.jpg</td>\n",
       "      <td>1</td>\n",
       "      <td>2</td>\n",
       "      <td>0</td>\n",
       "      <td>...</td>\n",
       "      <td>1.1900</td>\n",
       "      <td>1.1900</td>\n",
       "      <td>1.1900</td>\n",
       "      <td>1.1900</td>\n",
       "      <td>1.1900</td>\n",
       "      <td>1.1900</td>\n",
       "      <td>1.1900</td>\n",
       "      <td>1.1900</td>\n",
       "      <td>[14, 10]</td>\n",
       "      <td>[9, 12]</td>\n",
       "    </tr>\n",
       "  </tbody>\n",
       "</table>\n",
       "<p>5 rows × 228 columns</p>\n",
       "</div>"
      ],
      "text/plain": [
       "   subject  trial stimfile  condition          code        resp_1  \\\n",
       "0   455806      1      NaN        777         prac2    ~S3_O6.jpg   \n",
       "1   455806      3      NaN        777         prac8    ~S5_O4.jpg   \n",
       "2   455806      5      NaN        777         prac4    ~S5_O4.jpg   \n",
       "3   455806      7      NaN        777         prac5   ~S10_O9.jpg   \n",
       "4   455806      9      NaN        777  smgmvsslgl12  ~S14_O10.jpg   \n",
       "\n",
       "         resp_2  response  distractor  error    ...        Y_94    Y_95  \\\n",
       "0    ~S7_O8.jpg         1           1      1    ...      1.1400  1.1400   \n",
       "1  ~S10_O11.jpg         1           1      1    ...      1.1500  1.1500   \n",
       "2    ~S8_O9.jpg         1           2      0    ...      1.1250  1.1250   \n",
       "3    ~S7_O8.jpg         1           1      1    ...      1.2125  1.2125   \n",
       "4   ~S9_O12.jpg         1           2      0    ...      1.1900  1.1900   \n",
       "\n",
       "     Y_96    Y_97    Y_98    Y_99   Y_100   Y_101  RESPONSE1  RESPONSE2  \n",
       "0  1.1400  1.1400  1.1400  1.1400  1.1400  1.1400     [3, 6]     [7, 8]  \n",
       "1  1.1500  1.1500  1.1500  1.1500  1.1500  1.1500     [5, 4]   [10, 11]  \n",
       "2  1.1250  1.1250  1.1250  1.1250  1.1250  1.1250     [5, 4]     [8, 9]  \n",
       "3  1.2125  1.2125  1.2125  1.2125  1.2125  1.2125    [10, 9]     [7, 8]  \n",
       "4  1.1900  1.1900  1.1900  1.1900  1.1900  1.1900   [14, 10]    [9, 12]  \n",
       "\n",
       "[5 rows x 228 columns]"
      ]
     },
     "execution_count": 6,
     "metadata": {},
     "output_type": "execute_result"
    }
   ],
   "source": [
    "mtdata.head()"
   ]
  },
  {
   "cell_type": "markdown",
   "metadata": {},
   "source": [
    "if error == 0, then selfish, and that's response 1?\n",
    "if 1 then altruistic\n",
    "\n",
    "ERROR 0 REPSPONSE 0\n",
    "ERROR 1 RESPONSE 0\n",
    "ERROR 0 RESPONSE 1\n",
    "ERROR 1 RESPONSE 1"
   ]
  },
  {
   "cell_type": "code",
   "execution_count": 7,
   "metadata": {
    "collapsed": false
   },
   "outputs": [],
   "source": [
    "tempdata = pd.DataFrame(columns = ('RESPONSE','ERROR','RESPONSE1','RESPONSE2'))\n",
    "tempdata['RESPONSE'] = mtdata['response']\n",
    "tempdata['ERROR'] = mtdata['error']\n",
    "tempdata['RESPONSE1'] = mtdata['RESPONSE1']\n",
    "tempdata['RESPONSE2'] = mtdata['RESPONSE2']\n",
    "tempdata['SELFISHCHOICESELFMORE'] = 0\n",
    "tempdata['SELFISHCHOICEGROUPMORE'] = 0"
   ]
  },
  {
   "cell_type": "code",
   "execution_count": 8,
   "metadata": {
    "collapsed": false
   },
   "outputs": [
    {
     "data": {
      "text/html": [
       "<div>\n",
       "<table border=\"1\" class=\"dataframe\">\n",
       "  <thead>\n",
       "    <tr style=\"text-align: right;\">\n",
       "      <th></th>\n",
       "      <th>RESPONSE</th>\n",
       "      <th>ERROR</th>\n",
       "      <th>RESPONSE1</th>\n",
       "      <th>RESPONSE2</th>\n",
       "      <th>SELFISHCHOICESELFMORE</th>\n",
       "      <th>SELFISHCHOICEGROUPMORE</th>\n",
       "    </tr>\n",
       "  </thead>\n",
       "  <tbody>\n",
       "    <tr>\n",
       "      <th>0</th>\n",
       "      <td>1</td>\n",
       "      <td>1</td>\n",
       "      <td>[3, 6]</td>\n",
       "      <td>[7, 8]</td>\n",
       "      <td>0</td>\n",
       "      <td>0</td>\n",
       "    </tr>\n",
       "    <tr>\n",
       "      <th>1</th>\n",
       "      <td>1</td>\n",
       "      <td>1</td>\n",
       "      <td>[5, 4]</td>\n",
       "      <td>[10, 11]</td>\n",
       "      <td>0</td>\n",
       "      <td>0</td>\n",
       "    </tr>\n",
       "    <tr>\n",
       "      <th>2</th>\n",
       "      <td>1</td>\n",
       "      <td>0</td>\n",
       "      <td>[5, 4]</td>\n",
       "      <td>[8, 9]</td>\n",
       "      <td>0</td>\n",
       "      <td>0</td>\n",
       "    </tr>\n",
       "    <tr>\n",
       "      <th>3</th>\n",
       "      <td>1</td>\n",
       "      <td>1</td>\n",
       "      <td>[10, 9]</td>\n",
       "      <td>[7, 8]</td>\n",
       "      <td>0</td>\n",
       "      <td>0</td>\n",
       "    </tr>\n",
       "    <tr>\n",
       "      <th>4</th>\n",
       "      <td>1</td>\n",
       "      <td>0</td>\n",
       "      <td>[14, 10]</td>\n",
       "      <td>[9, 12]</td>\n",
       "      <td>0</td>\n",
       "      <td>0</td>\n",
       "    </tr>\n",
       "  </tbody>\n",
       "</table>\n",
       "</div>"
      ],
      "text/plain": [
       "   RESPONSE  ERROR RESPONSE1 RESPONSE2  SELFISHCHOICESELFMORE  \\\n",
       "0         1      1    [3, 6]    [7, 8]                      0   \n",
       "1         1      1    [5, 4]  [10, 11]                      0   \n",
       "2         1      0    [5, 4]    [8, 9]                      0   \n",
       "3         1      1   [10, 9]    [7, 8]                      0   \n",
       "4         1      0  [14, 10]   [9, 12]                      0   \n",
       "\n",
       "   SELFISHCHOICEGROUPMORE  \n",
       "0                       0  \n",
       "1                       0  \n",
       "2                       0  \n",
       "3                       0  \n",
       "4                       0  "
      ]
     },
     "execution_count": 8,
     "metadata": {},
     "output_type": "execute_result"
    }
   ],
   "source": [
    "tempdata.head()"
   ]
  },
  {
   "cell_type": "code",
   "execution_count": 9,
   "metadata": {
    "collapsed": false
   },
   "outputs": [],
   "source": [
    "SELFISHCHOICESELFMORE = []\n",
    "SELFISHCHOICEGROUPMORE = []\n",
    "\n",
    "for row in tempdata.iterrows():\n",
    "    if (row[1][0] == 1) & (row[1][1] == 0) | ((row[1][0] == 2) & (row[1][1] == 1)):\n",
    "        try:\n",
    "            SELFISHCHOICESELFMORE.append(int(row[1][2][0]) - int(row[1][3][0]))\n",
    "            SELFISHCHOICEGROUPMORE.append((int(row[1][2][0]) + int(row[1][2][1])) - (int(row[1][3][0]) + int(row[1][3][1])))\n",
    "        except:\n",
    "            SELFISHCHOICESELFMORE.append(None)\n",
    "            SELFISHCHOICEGROUPMORE.append(None)\n",
    "    elif ((row[1][0] == 2) & (row[1][1] == 0)) | ((row[1][0] == 1) & (row[1][1] == 1)):\n",
    "        try:\n",
    "            SELFISHCHOICESELFMORE.append(int(row[1][3][0]) - int(row[1][2][0]))\n",
    "            SELFISHCHOICEGROUPMORE.append((int(row[1][3][0]) + int(row[1][3][1])) - (int(row[1][2][0]) + int(row[1][2][1])))\n",
    "        except:\n",
    "            SELFISHCHOICESELFMORE.append(None)\n",
    "            SELFISHCHOICEGROUPMORE.append(None)"
   ]
  },
  {
   "cell_type": "code",
   "execution_count": 10,
   "metadata": {
    "collapsed": false
   },
   "outputs": [],
   "source": [
    "tempdata = tempdata.drop(['RESPONSE1','RESPONSE2', 'RESPONSE', 'ERROR'], axis = 1)\n",
    "tempdata['SELFISHCHOICESELFMORE'] = SELFISHCHOICESELFMORE\n",
    "tempdata['SELFISHCHOICEGROUPMORE'] = SELFISHCHOICEGROUPMORE"
   ]
  },
  {
   "cell_type": "code",
   "execution_count": 11,
   "metadata": {
    "collapsed": false
   },
   "outputs": [],
   "source": [
    "outdata = pd.concat([mtdata,tempdata], axis = 1)"
   ]
  },
  {
   "cell_type": "code",
   "execution_count": 13,
   "metadata": {
    "collapsed": false
   },
   "outputs": [],
   "source": [
    "outdata.to_csv('mousetrackercorrected9.16.2016.csv')"
   ]
  }
 ],
 "metadata": {
  "kernelspec": {
   "display_name": "Python 2",
   "language": "python",
   "name": "python2"
  },
  "language_info": {
   "codemirror_mode": {
    "name": "ipython",
    "version": 2
   },
   "file_extension": ".py",
   "mimetype": "text/x-python",
   "name": "python",
   "nbconvert_exporter": "python",
   "pygments_lexer": "ipython2",
   "version": "2.7.11"
  }
 },
 "nbformat": 4,
 "nbformat_minor": 0
}
