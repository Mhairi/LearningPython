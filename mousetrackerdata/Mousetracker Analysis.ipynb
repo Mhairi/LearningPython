{
 "cells": [
  {
   "cell_type": "markdown",
   "metadata": {},
   "source": [
    "# Overview\n",
    "\n",
    "I'm going to be looking at some pilot data that some colleagues and I collected using Jon Freeman's Mousetracker (http://www.mousetracker.org/). As the name suggests, mousetracker is a program designed to track participants' mouse movements. In social psychology, researchers use it to track participants' implicit decision making processes. Originally, it was developed to study how individuals categorize faces. An example of the paradigm would be a participant having to choose whether a face is male or female, like so: ![mousetracker image here](http://static1.squarespace.com/static/54612594e4b09fab6f870891/546efb6ae4b0923225b792c7/546efb6ce4b0a19016ccac11/1416559468408/p.jpg?format=2500w)\n",
    "\n",
    "The researcher could then vary the degree to which the face has stereotypically male features, or stereotypically female features, and track not just *what* participants are categorizing the faces as, but also, *how* they reach those decisions, by tracking the paths and time course of the mouse movements."
   ]
  },
  {
   "cell_type": "markdown",
   "metadata": {},
   "source": [
    "# Current project\n",
    "\n",
    "Anyway, some friends and I are currently working on distinguishing how individuals allocate resources in the context of a relationship. We hypothesize that at any given time, individuals are concerned with:\n",
    "\n",
    "1. their self-interest\n",
    "2. their partner's interests\n",
    "3. the interest of the *group* or dyad, or the relationship, or them as a pair\n",
    "\n",
    "and these motives affect the way individuals choose to distribute resources. To distinguish between these three motives, we generated three sets of stimuli using poker chips that pit each of these motives against each other.\n",
    "\n",
    "The first set of stimuli pit participants' self-interest against the interests of their partner. For example, if red poker chips were paid out to you and green to your partner, one dilemma would be choosing between these two stacks of poker chips of equal height (i.e., the group receives the same in both cases):\n",
    "\n",
    " Left | Right |\n",
    ":------:|:---:|\n",
    "![so1](https://raw.githubusercontent.com/bryansim/Python/master/mousetrackerdata/so1.jpg) | ![so2](https://raw.githubusercontent.com/bryansim/Python/master/mousetrackerdata/so2.jpg)\n",
    "\n",
    "The second set of stimuli pits a participant's concern for the interest of their partner vs. their own self interest and the group's interest. This captures participants' \"pure\" altruistic motives in the sense that choosing to favor their partner in this scenario sacrifices both their own interests and the group's interest:\n",
    "\n",
    " Left | Right |\n",
    " :--:|:---:|\n",
    " ![smgm1](https://raw.githubusercontent.com/bryansim/Python/master/mousetrackerdata/smgm1.jpg) | ![smgm2](https://raw.githubusercontent.com/bryansim/Python/master/mousetrackerdata/smgm2.jpg)\n",
    " \n",
    " Finally, the last set of stimuli pit participants' self-interest against that of their partner and the group. In this case, one set of poker chips results in the participant getting more than the other set of chips, but in the other set of poker chips, his/her partner gets more *and* so does the pair of them:\n",
    " \n",
    " "
   ]
  },
  {
   "cell_type": "markdown",
   "metadata": {},
   "source": []
  }
 ],
 "metadata": {
  "kernelspec": {
   "display_name": "Python 2",
   "language": "python",
   "name": "python2"
  },
  "language_info": {
   "codemirror_mode": {
    "name": "ipython",
    "version": 2
   },
   "file_extension": ".py",
   "mimetype": "text/x-python",
   "name": "python",
   "nbconvert_exporter": "python",
   "pygments_lexer": "ipython2",
   "version": "2.7.11"
  }
 },
 "nbformat": 4,
 "nbformat_minor": 0
}
