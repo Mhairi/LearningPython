{
 "cells": [
  {
   "cell_type": "code",
   "execution_count": 30,
   "metadata": {
    "collapsed": false
   },
   "outputs": [],
   "source": [
    "%matplotlib inline\n",
    "import csv\n",
    "from random import randint, seed\n",
    "from matplotlib import pyplot as plt\n",
    "\n",
    "seed(0)\n",
    "\n",
    "stimulifile = open('stimuli.csv', 'rb') #Open csv file\n",
    "stimulicsv = csv.reader(stimulifile) #csv file is a csv.reader object\n",
    "\n",
    "stimuliinitial = [] #stimuli is an empty array\n",
    "\n",
    "for line in stimulicsv:\n",
    "    stimuliinitial.append([int(line[0]), int(line[1])]) #append each line in the csv reader object to the stimuli"
   ]
  },
  {
   "cell_type": "code",
   "execution_count": 32,
   "metadata": {
    "collapsed": false
   },
   "outputs": [
    {
     "data": {
      "text/plain": [
       "[[4, 5],\n",
       " [4, 6],\n",
       " [4, 7],\n",
       " [4, 8],\n",
       " [4, 9],\n",
       " [5, 6],\n",
       " [5, 7],\n",
       " [5, 8],\n",
       " [5, 9],\n",
       " [5, 10],\n",
       " [6, 7],\n",
       " [6, 8],\n",
       " [6, 9],\n",
       " [6, 10],\n",
       " [6, 11],\n",
       " [7, 8],\n",
       " [7, 9],\n",
       " [7, 10],\n",
       " [7, 11],\n",
       " [7, 12],\n",
       " [8, 9],\n",
       " [8, 10],\n",
       " [8, 11],\n",
       " [8, 12],\n",
       " [8, 13],\n",
       " [9, 10],\n",
       " [9, 11],\n",
       " [9, 12],\n",
       " [9, 13],\n",
       " [9, 14],\n",
       " [10, 11],\n",
       " [10, 12],\n",
       " [10, 13],\n",
       " [10, 14],\n",
       " [10, 15]]"
      ]
     },
     "execution_count": 32,
     "metadata": {},
     "output_type": "execute_result"
    }
   ],
   "source": [
    "stimuliinitial"
   ]
  },
  {
   "cell_type": "code",
   "execution_count": 41,
   "metadata": {
    "collapsed": false
   },
   "outputs": [
    {
     "name": "stdout",
     "output_type": "stream",
     "text": [
      "[4, 5]\n",
      "[4, 6]\n"
     ]
    },
    {
     "data": {
      "text/plain": [
       "([<matplotlib.axis.XTick at 0xc0418d0>, <matplotlib.axis.XTick at 0xacc3390>],\n",
       " <a list of 2 Text xticklabel objects>)"
      ]
     },
     "execution_count": 41,
     "metadata": {},
     "output_type": "execute_result"
    },
    {
     "data": {
      "image/png": "[encoded data removed]",
      "text/plain": [
       "<matplotlib.figure.Figure at 0xbca2160>"
      ]
     },
     "metadata": {},
     "output_type": "display_data"
    }
   ],
   "source": [
    "x = [1,2]\n",
    "width = .35\n",
    "a = [stimuliinitial[0][0], stimuliinitial[0][1]]\n",
    "b = [stimuliinitial[1][0], stimuliinitial[1][1]]\n",
    "\n",
    "print a\n",
    "print b\n",
    "\n",
    "p1 = plt.bar(x,a, width, color = \"blue\")\n",
    "p2 = plt.bar(x,b, width, bottom = a, color = \"red\")\n",
    "plt.xticks(x)\n"
   ]
  }
 ],
 "metadata": {
  "kernelspec": {
   "display_name": "Python 2",
   "language": "python",
   "name": "python2"
  },
  "language_info": {
   "codemirror_mode": {
    "name": "ipython",
    "version": 2
   },
   "file_extension": ".py",
   "mimetype": "text/x-python",
   "name": "python",
   "nbconvert_exporter": "python",
   "pygments_lexer": "ipython2",
   "version": "2.7.11"
  }
 },
 "nbformat": 4,
 "nbformat_minor": 0
}
