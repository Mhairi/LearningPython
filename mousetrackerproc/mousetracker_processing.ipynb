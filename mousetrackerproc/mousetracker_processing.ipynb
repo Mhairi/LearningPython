{
 "cells": [
  {
   "cell_type": "code",
   "execution_count": 112,
   "metadata": {
    "collapsed": true
   },
   "outputs": [],
   "source": [
    "import pandas as pd\n",
    "import os\n",
    "rootdir = 'C:/Users/Bryan/Desktop/MT_corrected'"
   ]
  },
  {
   "cell_type": "markdown",
   "metadata": {},
   "source": [
    "# Loop through all MT files\n",
    "We loop through all the files in the data directory, and for each, report the subject ID, and their answer for the self-check."
   ]
  },
  {
   "cell_type": "code",
   "execution_count": 171,
   "metadata": {
    "collapsed": true
   },
   "outputs": [],
   "source": [
    "def self_chips(line):\n",
    "    pid = \"\"\n",
    "    answer = \"\"\n",
    "    for i, char in enumerate(line):\n",
    "        if i <= 6:\n",
    "            pid = str(pid) + str(char)\n",
    "        if i > 63 and i < 67:\n",
    "            answer = answer + char\n",
    "    return [pid, answer]"
   ]
  },
  {
   "cell_type": "code",
   "execution_count": 172,
   "metadata": {
    "collapsed": false
   },
   "outputs": [],
   "source": [
    "def all_participant_colors(rootdir):    \n",
    "    participant_colors = []\n",
    "    \n",
    "    for subdir, dirs, files in os.walk(rootdir):\n",
    "        for file in files:\n",
    "            file_name = open(rootdir + \"/\" + file)\n",
    "        \n",
    "            for i, line in enumerate(file_name):\n",
    "                try:\n",
    "                    if i > 4 and i < 75 and line[23] == 'Y':  \n",
    "                        participant_colors.append(self_chips(line))\n",
    "                except IndexError:\n",
    "                    pass\n",
    "            file_name.close()\n",
    "    return participant_colors"
   ]
  },
  {
   "cell_type": "code",
   "execution_count": 173,
   "metadata": {
    "collapsed": false
   },
   "outputs": [],
   "source": [
    "hopefully_this_works = all_participant_colors(rootdir)"
   ]
  },
  {
   "cell_type": "code",
   "execution_count": 174,
   "metadata": {
    "collapsed": false
   },
   "outputs": [],
   "source": [
    "hopefully_this_works = pd.DataFrame(hopefully_this_works)"
   ]
  },
  {
   "cell_type": "code",
   "execution_count": 175,
   "metadata": {
    "collapsed": false
   },
   "outputs": [],
   "source": [
    "hopefully_this_works.to_csv(\"answer.csv\", index = False, header = False)"
   ]
  }
 ],
 "metadata": {
  "kernelspec": {
   "display_name": "Python 2",
   "language": "python",
   "name": "python2"
  },
  "language_info": {
   "codemirror_mode": {
    "name": "ipython",
    "version": 2
   },
   "file_extension": ".py",
   "mimetype": "text/x-python",
   "name": "python",
   "nbconvert_exporter": "python",
   "pygments_lexer": "ipython2",
   "version": "2.7.11"
  }
 },
 "nbformat": 4,
 "nbformat_minor": 0
}
