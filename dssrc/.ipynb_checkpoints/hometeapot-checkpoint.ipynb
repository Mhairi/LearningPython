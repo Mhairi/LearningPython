{
 "cells": [
  {
   "cell_type": "code",
   "execution_count": null,
   "metadata": {
    "collapsed": true
   },
   "outputs": [],
   "source": []
  },
  {
   "cell_type": "code",
   "execution_count": 1,
   "metadata": {
    "collapsed": false
   },
   "outputs": [
    {
     "ename": "IndentationError",
     "evalue": "expected an indented block (<ipython-input-1-f4f9ee513eb1>, line 7)",
     "output_type": "error",
     "traceback": [
      "\u001b[1;36m  File \u001b[1;32m\"<ipython-input-1-f4f9ee513eb1>\"\u001b[1;36m, line \u001b[1;32m7\u001b[0m\n\u001b[1;33m    def percentage_query_description(description_vector):\u001b[0m\n\u001b[1;37m      ^\u001b[0m\n\u001b[1;31mIndentationError\u001b[0m\u001b[1;31m:\u001b[0m expected an indented block\n"
     ]
    }
   ],
   "source": [
    "#These are functions that should take a column vector and return another column vector that we can concatenate with our main array\n",
    "\n",
    "#the percentage of query tokens that appear in product title\n",
    "def percentage_query_title(query_vector, title_vector):\n",
    "    \n",
    "#the percentage of query tokens that appear in product description\n",
    "def percentage_query_description(query_vector, description_vector):\n",
    "\n",
    "#The 1st token of query tokens matched with any tokens in product title\n",
    "def first_token_query_title(query_vector, title_vector):\n",
    "\n",
    "#The 2nd token of query tokens matched with any tokens in product title\n",
    "def second_token_query_title(query_vector, title_vector):\n",
    "\n",
    "#Any of the middle tokens of query tokens matched with any tokens in product title\n",
    "def middle_token_query_title(query_vector, title_vector):\n",
    "\n",
    "#The last token of query tokens matched with any tokens in product title\n",
    "def last_token_query_title(query_vector, title_vector):\n",
    "\n",
    "#word count of query tokens\n",
    "def query_token_count(query_vector):\n",
    "\n",
    "#word count of title tokens\n",
    "def title_token_count(title_vector):\n",
    "\n",
    "#word count of description tokens\n",
    "def description_token_count(description_vector):\n",
    "\n",
    "#the ratio of query tokens matched in title tokens (titleMatched / titleTokens.size())\n",
    "def ratio_query_title(query_vector, title_vector):"
   ]
  }
 ],
 "metadata": {
  "kernelspec": {
   "display_name": "Python 2",
   "language": "python",
   "name": "python2"
  },
  "language_info": {
   "codemirror_mode": {
    "name": "ipython",
    "version": 2
   },
   "file_extension": ".py",
   "mimetype": "text/x-python",
   "name": "python",
   "nbconvert_exporter": "python",
   "pygments_lexer": "ipython2",
   "version": "2.7.11"
  }
 },
 "nbformat": 4,
 "nbformat_minor": 0
}
